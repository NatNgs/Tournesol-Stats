{
 "cells": [
  {
   "cell_type": "code",
   "execution_count": null,
   "metadata": {},
   "outputs": [],
   "source": [
    "# Imports\n",
    "import os\n",
    "\n",
    "# Ensure notebook is running from src/ dir\n",
    "_pwd = os.path.realpath('.').split(os.sep)\n",
    "if 'src' in _pwd:\n",
    "\twhile _pwd[-1] != 'src':\n",
    "\t\t_pwd.pop()\n",
    "\tos.chdir(os.sep.join(_pwd))\n",
    "print(os.path.realpath('.'))\n",
    "\n",
    "# Local project requirements\n",
    "from model.tournesol_api import TournesolAPI, get"
   ]
  },
  {
   "cell_type": "code",
   "execution_count": null,
   "metadata": {},
   "outputs": [],
   "source": [
    "# PARAMETERS\n",
    "TOURNESOL_API=TournesolAPI(input('JWT (example: \"Bearer xxxxxxxxx\")'))\n",
    "TOURNESOL_API.loadCache(f\"../data/Tournesol_API_cache-{TOURNESOL_API.username}.json.gz\")"
   ]
  },
  {
   "cell_type": "code",
   "execution_count": null,
   "metadata": {},
   "outputs": [],
   "source": [
    "# Load dataset\n",
    "rate_later = TOURNESOL_API.getMyRateLater()\n",
    "print('Total rate later:', len(rate_later))\n",
    "filtered = [r for r in rate_later \n",
    "    if get(r, 0, 'collective_rating', 'n_contributors') > 0 and (get(r, 0, 'individual_rating', 'n_comparisons') == 0)\n",
    "]\n",
    "print('Rate later with other contributors:', len(filtered))"
   ]
  },
  {
   "cell_type": "code",
   "execution_count": null,
   "metadata": {},
   "outputs": [],
   "source": [
    "# Sort by:\n",
    "# - number of total contributors (smallest first)\n",
    "# - number of total comparisons (highest first)\n",
    "# - number of views (largest first)\n",
    "def sortkey(vdata) -> tuple[int, int, int, int]:\n",
    "\treturn (\n",
    "\t\tget(vdata, 0, 'collective_rating', 'n_contributors'),\n",
    "\t\t-get(vdata, 0, 'collective_rating', 'n_comparisons'),\n",
    "\t\t-get(vdata, -100, 'collective_rating', 'tournesol_score'),\n",
    "\t\t#-get(vdata, 0, 'entity', 'metadata', 'views'),\n",
    "\t)\n",
    "\n",
    "filtered.sort(key=sortkey)\n",
    "\n",
    "print('Rank  url                                                                 (n_contributors, n_comparisons, views)')\n",
    "for r in range(0, len(filtered)-1, 2):\n",
    "\tprint(f\"{int(r/2)+1:3d}. https://tournesol.app/comparison?uidA={filtered[r]['entity']['uid']}&uidB={filtered[r+1]['entity']['uid']}\", \n",
    "\t\t(get(filtered[r], 0, 'collective_rating', 'n_contributors'), get(filtered[r], 0, 'collective_rating', 'n_comparisons'), get(filtered[r], 0, 'entity', 'metadata', 'views')),\n",
    "\t\t(get(filtered[r+1], 0, 'collective_rating', 'n_contributors'), get(filtered[r+1], 0, 'collective_rating', 'n_comparisons'), get(filtered[r+1], 0, 'entity', 'metadata', 'views'))\n",
    "\t)\n"
   ]
  }
 ],
 "metadata": {
  "kernelspec": {
   "display_name": "Python 3",
   "language": "python",
   "name": "python3"
  },
  "language_info": {
   "codemirror_mode": {
    "name": "ipython",
    "version": 3
   },
   "file_extension": ".py",
   "mimetype": "text/x-python",
   "name": "python",
   "nbconvert_exporter": "python",
   "pygments_lexer": "ipython3",
   "version": "3.12.3"
  }
 },
 "nbformat": 4,
 "nbformat_minor": 2
}
